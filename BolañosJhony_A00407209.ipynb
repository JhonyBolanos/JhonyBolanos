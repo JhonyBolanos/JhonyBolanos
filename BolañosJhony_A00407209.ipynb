{
  "nbformat": 4,
  "nbformat_minor": 0,
  "metadata": {
    "colab": {
      "provenance": [],
      "authorship_tag": "ABX9TyN5/7NNQQfpWV4E8G9eG8rR",
      "include_colab_link": true
    },
    "kernelspec": {
      "name": "python3",
      "display_name": "Python 3"
    },
    "language_info": {
      "name": "python"
    }
  },
  "cells": [
    {
      "cell_type": "markdown",
      "metadata": {
        "id": "view-in-github",
        "colab_type": "text"
      },
      "source": [
        "<a href=\"https://colab.research.google.com/github/JhonyBolanos/JhonyBolanos/blob/main/Bola%C3%B1osJhony_A00407209.ipynb\" target=\"_parent\"><img src=\"https://colab.research.google.com/assets/colab-badge.svg\" alt=\"Open In Colab\"/></a>"
      ]
    },
    {
      "cell_type": "markdown",
      "source": [],
      "metadata": {
        "id": "81fMUlMMtDD8"
      }
    },
    {
      "cell_type": "markdown",
      "source": [
        "Mi nombre es Jhony Bolaños García estudiante de ingeniería telematica, soy de Palmira, me gusta mucho los deportes sobre todo el fútbol, toco guitarra y más o menos canto, me considero una persona creativa y que muchas veces está alegre, vivo actualmente en Palmira, estudio en la universidad ICESI de Cali, tengo 17 años, me gradue en diciembre del año 2023 del colegio Cardenas Centro de Palmira.\n",
        "Pasé por muchos colegios antes de graduarme, quería ser futbolista profesional, pero hubieron situaciones que no lo permitieron, me gusta salir con amigos, con mi familia, con mi pareja, me gusta pasarla bacano con gente que me agrada"
      ],
      "metadata": {
        "id": "EFvWBvKuthXz"
      }
    },
    {
      "cell_type": "code",
      "source": [
        "<img src=\""
      ],
      "metadata": {
        "colab": {
          "base_uri": "https://localhost:8080/",
          "height": 196
        },
        "id": "DcXU6YJWxAWm",
        "outputId": "fba71c85-dd18-4550-d27d-e0d7d3a8ee5f"
      },
      "execution_count": null,
      "outputs": [
        {
          "output_type": "error",
          "ename": "SyntaxError",
          "evalue": "invalid syntax (<ipython-input-5-909ab4878551>, line 1)",
          "traceback": [
            "\u001b[0;36m  File \u001b[0;32m\"<ipython-input-5-909ab4878551>\"\u001b[0;36m, line \u001b[0;32m1\u001b[0m\n\u001b[0;31m    <img src=\"https://unsplash.com/es/fotos/foto-de-primer-plano-del-tigre-marron-8Myh76_3M2U\"\u001b[0m\n\u001b[0m    ^\u001b[0m\n\u001b[0;31mSyntaxError\u001b[0m\u001b[0;31m:\u001b[0m invalid syntax\n"
          ]
        }
      ]
    }
  ]
}