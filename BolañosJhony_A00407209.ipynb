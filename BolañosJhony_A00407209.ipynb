{
  "nbformat": 4,
  "nbformat_minor": 0,
  "metadata": {
    "colab": {
      "provenance": [],
      "name": "BolañosJhony_A00407209.ipynb",
      "include_colab_link": true
    },
    "kernelspec": {
      "name": "python3",
      "display_name": "Python 3"
    },
    "language_info": {
      "name": "python"
    }
  },
  "cells": [
    {
      "cell_type": "markdown",
      "metadata": {
        "id": "view-in-github",
        "colab_type": "text"
      },
      "source": [
        "<a href=\"https://colab.research.google.com/github/JhonyBolanos/MatematicasAplicadas1/blob/main/Bola%C3%B1osJhony_A00407209.ipynb\" target=\"_parent\"><img src=\"https://colab.research.google.com/assets/colab-badge.svg\" alt=\"Open In Colab\"/></a>"
      ]
    },
    {
      "cell_type": "markdown",
      "source": [
        "#**Autobiografia**\n",
        "Mi nombre es Jhony Bolaños García estudiante de ingeniería telematica, soy de Palmira, me gusta mucho los deportes sobre todo el fútbol, toco guitarra y más o menos canto, me considero una persona creativa y que muchas veces está alegre, vivo actualmente en Palmira, estudio en la universidad ICESI de Cali, tengo 17 años, naci el 6 de julio de 2007. Me gradue en diciembre del año 2023 del colegio Cardenas Centro de Palmira.Pasé por muchos colegios antes de graduarme, quería ser futbolista profesional, pero hubieron situaciones que no lo permitieron, me gusta salir con amigos, con mi familia, con mi pareja, me gusta pasarla bacano con gente que me agrada, me gustan los juegos de mesa, juegos interactivos, soy muy sociable e incluso soy empatico, trato de siempre ser amable para no tener conflictos ni malos entendids con las personas, me gusta llevar la vida alegre y estar dispuestio a ayudar al que lo necesite.\n",
        "\n",
        "<img src=\"https://kinsta.com/wp-content/uploads/2020/08/tiger-jpg.jpg\">\n",
        "\n",
        "#**Canciones**\n",
        "\n",
        "> **The Way You Make me Feel**\n",
        "> > *Artista: Michael Jackson*\n",
        "-----------------------------\n",
        "> **Stupid Love Story**\n",
        "> > *Artista: Canserbero*\n",
        "-----------------------------\n",
        "> **La Distancia**\n",
        "> > *Artista: Manuel Medrano*\n",
        "-----------------------------\n",
        "> **Billie Jean**\n",
        "> > *Artista: Michael Jackson*\n",
        "-----------------------------\n",
        "> **Master of Puppets**\n",
        "> > *Artista: Metallica*\n",
        "\n",
        "\n",
        "\n",
        "#**Asignaturas**\n",
        "\n",
        "| **Asignatura** | **Razón** |\n",
        "| ------------ | ------------ |\n",
        "| Introduccioón a la ingenieria Telematica| Tenia que ver con mi carrera desde un principio y me dejo aprendizajes muy buenos desde el primer semestre|\n",
        "| Fundamentos de Derecho| Me gusto porque yo era muy esquivo a lo relacionado con la politica y sus variantes,, pero aprendi muchos aspectos de ella que a la final sirven en la vida cotidiana|\n",
        "|      Algoritmos y Programación 1        |    En esta amplío mas mi conocimiento algoritmico y doy un paso mas a la programación orientada a objetos          |\n",
        "\n",
        "\n",
        "\n"
      ],
      "metadata": {
        "id": "xDtVN9I-z-42"
      }
    }
  ]
}